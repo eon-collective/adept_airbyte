{
 "cells": [
  {
   "cell_type": "markdown",
   "metadata": {},
   "source": [
    "# Greenplum Airbyte Connector - Python prototype\n",
    "\n",
    "This notebook is used to validate a connection to greenplum cluster using python"
   ]
  },
  {
   "cell_type": "code",
   "execution_count": null,
   "metadata": {},
   "outputs": [],
   "source": [
    "pip install psycopg2 pandas"
   ]
  },
  {
   "cell_type": "code",
   "execution_count": 16,
   "metadata": {},
   "outputs": [
    {
     "name": "stdout",
     "output_type": "stream",
     "text": [
      "   Name  Age\n",
      "0   tom   10\n",
      "1  nick   15\n",
      "2  juli   14\n"
     ]
    }
   ],
   "source": [
    "import io\n",
    "import pandas as pd\n",
    "import psycopg2\n",
    "import logging\n",
    "logging.basicConfig(format='%(asctime)s %(levelname)s:%(message)s', level=logging.DEBUG, datefmt='%I:%M:%S')\n",
    "\n",
    "def executeQueryInGreenplum(gp_cursor, query):\n",
    "    gp_cursor.execute(query)\n",
    "    # gp_cursor.commit()\n",
    "    response_records = gp_cursor.fetchall()\n",
    "\n",
    "    print(\"Print each row and it's columns values\")\n",
    "    for row in response_records:\n",
    "        print(row)\n",
    "\n",
    "\n",
    "# setup variables for the job\n",
    "greenplum_host='54.89.84.45'\n",
    "greenplum_database='eon_collective'\n",
    "greenplum_user='eon_heimdal_proxy'\n",
    "greenplum_password='0imb6vkiGQIvVrY'\n",
    "greenplum_tableName='pandas_tbl'\n",
    "greenplum_SchemaName= 'public'\n",
    "\n",
    "# initialize dummy data with a list of lists- commas separated values, each sublist is representative of a dataframe row\n",
    "data = [['tom', 10], ['nick', 15], ['juli', 14]]\n",
    " \n",
    "# Create a pandas DataFrame named `df``\n",
    "df = pd.DataFrame(data, columns=['Name', 'Age'])\n",
    " \n",
    "# print dataframe.\n",
    "print(df)\n",
    "\n",
    "# Write your dataframe to memory as csv\n",
    "csv_io = io.StringIO()\n",
    "df.to_csv(csv_io, sep='\\t', header=False, index=False)\n",
    "csv_io.seek(0)\n",
    "\n",
    "\n",
    "# Connect to the GreenPlum database.\n",
    "greenplum = psycopg2.connect(host=greenplum_host, database=greenplum_database, user=greenplum_user, password=greenplum_password, port='5000')\n",
    "gp_cursor = greenplum.cursor()\n",
    "\n",
    "\n",
    "\n",
    "\n",
    "# create a table in greenplum\n",
    "ddl_stmnt='''\n",
    "create table %s.%s( name VARCHAR(255),age INTEGER)\n",
    "DISTRIBUTED BY (name);'''%(greenplum_SchemaName, greenplum_tableName)\n",
    "\n",
    "## execute the ddl statement \n",
    "executeQueryInGreenplum(gp_cursor, ddl_stmnt)\n",
    "\n",
    "\n",
    "# # Copy the data from the buffer to the table.\n",
    "# gp_cursor.copy_from(csv_io, '%s.%s'%(greenplum_database, greenplum_tableName))\n",
    "# greenplum.commit()\n",
    "\n",
    "# Close the GreenPlum cursor and connection.\n",
    "gp_cursor.close()\n",
    "greenplum.close()"
   ]
  }
 ],
 "metadata": {
  "kernelspec": {
   "display_name": "Python 3",
   "language": "python",
   "name": "python3"
  },
  "language_info": {
   "codemirror_mode": {
    "name": "ipython",
    "version": 3
   },
   "file_extension": ".py",
   "mimetype": "text/x-python",
   "name": "python",
   "nbconvert_exporter": "python",
   "pygments_lexer": "ipython3",
   "version": "3.9.18"
  }
 },
 "nbformat": 4,
 "nbformat_minor": 2
}
